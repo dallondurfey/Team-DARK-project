{
 "cells": [
  {
   "cell_type": "markdown",
   "metadata": {},
   "source": [
    "# Group DARK Project "
   ]
  },
  {
   "cell_type": "code",
   "execution_count": 1,
   "metadata": {},
   "outputs": [],
   "source": [
    "#general imports\n",
    "import pandas as pd \n",
    "from bs4 import BeautifulSoup\n",
    "import bs4\n",
    "import tensorflow as tf\n",
    "import glob\n",
    "import re\n",
    "import xml.etree.ElementTree as etree\n",
    "import numpy as np\n",
    "from sklearn.model_selection import train_test_split\n",
    "from sklearn.metrics import classification_report, confusion_matrix, accuracy_score\n",
    "import nltk\n",
    "from nltk.corpus import stopwords\n",
    "\n",
    "from sklearn.feature_extraction.text import TfidfVectorizer, CountVectorizer\n",
    "from sklearn.naive_bayes import MultinomialNB\n"
   ]
  },
  {
   "cell_type": "code",
   "execution_count": 25,
   "metadata": {},
   "outputs": [],
   "source": [
    "# First, the data needs to be parsed from the XML files\n",
    "soup = BeautifulSoup() #create beautiful soup object \n",
    "path_list = glob.glob('data/*.xml') #get the path to each xml file in the data folder\n",
    "\n",
    "data_dicts = [] #start a list where the dictionaries will be appended to create the data frame\n",
    "for f in path_list: # loop through each xml and store the data into the beautiful soup object\n",
    "    \n",
    "    soup = BeautifulSoup(open(f), 'html.parser') # I had to use html in order to extract the CData from the XML\n",
    "\n",
    "    #find the text of the note, which is stored in the CData \n",
    "    text = soup.find(text=lambda text: isinstance(text, bs4.CData)).string.strip()\n",
    "\n",
    "    \n",
    "    #use regular expression to clean the notes \n",
    "    text = re.sub(r'\\n+', ' ', text) #remove new paragraph \n",
    "    text = re.sub(r'\\s\\s+\\s*', '', text) #remove multiple spaces\n",
    "    text = re.sub(r'\\_+', '', text) #remove underline\n",
    "    \n",
    "    #gather smoker status\n",
    "    try:\n",
    "        smoker = soup.find('smoker').get('status') #find the smoker status\n",
    "    except AttributeError: #if the smoker status is unlisted, it will be recorded as 'unknown'\n",
    "        smoker = 'unknown'\n",
    "   \n",
    "    #find the status of coronary artery disease, 'unknown' will be stored if not known\n",
    "    try:\n",
    "        CAD = soup.find('cad').get('indicator')\n",
    "        \n",
    "    except AttributeError: \n",
    "        \n",
    "        CAD = 'unknown'\n",
    "    \n",
    "    f = re.search(r'\\d+\\-\\d+\\.\\w+', f).group()\n",
    "    data_dicts.append({'Note': text, 'Smoker': smoker, 'CAD': CAD, 'File name': f})\n",
    "    \n",
    "    \n",
    "    \n",
    "\n",
    "df = pd.DataFrame(data_dicts) #create a pandas data frame from the dictionaries collected \n",
    "df = df.drop_duplicates() #in case some files get passed mulitple times, we'll delete any duplicates\n",
    "        \n"
   ]
  },
  {
   "cell_type": "code",
   "execution_count": 26,
   "metadata": {
    "scrolled": true
   },
   "outputs": [
    {
     "data": {
      "text/html": [
       "<div>\n",
       "<style scoped>\n",
       "    .dataframe tbody tr th:only-of-type {\n",
       "        vertical-align: middle;\n",
       "    }\n",
       "\n",
       "    .dataframe tbody tr th {\n",
       "        vertical-align: top;\n",
       "    }\n",
       "\n",
       "    .dataframe thead th {\n",
       "        text-align: right;\n",
       "    }\n",
       "</style>\n",
       "<table border=\"1\" class=\"dataframe\">\n",
       "  <thead>\n",
       "    <tr style=\"text-align: right;\">\n",
       "      <th></th>\n",
       "      <th>Note</th>\n",
       "      <th>Smoker</th>\n",
       "      <th>CAD</th>\n",
       "      <th>File name</th>\n",
       "    </tr>\n",
       "  </thead>\n",
       "  <tbody>\n",
       "    <tr>\n",
       "      <th>0</th>\n",
       "      <td>Record date: 2093-04-28BMC EMERGENCY DEPT VISI...</td>\n",
       "      <td>past</td>\n",
       "      <td>unknown</td>\n",
       "      <td>379-03.xml</td>\n",
       "    </tr>\n",
       "    <tr>\n",
       "      <th>1</th>\n",
       "      <td>Record date: 2093-01-13 Team X Intern Admissio...</td>\n",
       "      <td>unknown</td>\n",
       "      <td>test</td>\n",
       "      <td>279-03.xml</td>\n",
       "    </tr>\n",
       "    <tr>\n",
       "      <th>2</th>\n",
       "      <td>Record date: 2088-05-21 Patient Name: CURTIS, ...</td>\n",
       "      <td>unknown</td>\n",
       "      <td>unknown</td>\n",
       "      <td>119-01.xml</td>\n",
       "    </tr>\n",
       "    <tr>\n",
       "      <th>3</th>\n",
       "      <td>Record date: 2062-03-27 Hematology Clinic Prog...</td>\n",
       "      <td>never</td>\n",
       "      <td>unknown</td>\n",
       "      <td>304-03.xml</td>\n",
       "    </tr>\n",
       "    <tr>\n",
       "      <th>4</th>\n",
       "      <td>Record date: 2135-12-15CARDIOLOGYPERDUE MEDICA...</td>\n",
       "      <td>past</td>\n",
       "      <td>test</td>\n",
       "      <td>204-03.xml</td>\n",
       "    </tr>\n",
       "  </tbody>\n",
       "</table>\n",
       "</div>"
      ],
      "text/plain": [
       "                                                Note   Smoker      CAD  \\\n",
       "0  Record date: 2093-04-28BMC EMERGENCY DEPT VISI...     past  unknown   \n",
       "1  Record date: 2093-01-13 Team X Intern Admissio...  unknown     test   \n",
       "2  Record date: 2088-05-21 Patient Name: CURTIS, ...  unknown  unknown   \n",
       "3  Record date: 2062-03-27 Hematology Clinic Prog...    never  unknown   \n",
       "4  Record date: 2135-12-15CARDIOLOGYPERDUE MEDICA...     past     test   \n",
       "\n",
       "    File name  \n",
       "0  379-03.xml  \n",
       "1  279-03.xml  \n",
       "2  119-01.xml  \n",
       "3  304-03.xml  \n",
       "4  204-03.xml  "
      ]
     },
     "execution_count": 26,
     "metadata": {},
     "output_type": "execute_result"
    }
   ],
   "source": [
    "df.head()"
   ]
  },
  {
   "cell_type": "code",
   "execution_count": 33,
   "metadata": {},
   "outputs": [
    {
     "name": "stdout",
     "output_type": "stream",
     "text": [
      "<class 'pandas.core.frame.DataFrame'>\n",
      "RangeIndex: 1304 entries, 0 to 1303\n",
      "Data columns (total 4 columns):\n",
      " #   Column     Non-Null Count  Dtype \n",
      "---  ------     --------------  ----- \n",
      " 0   Note       1304 non-null   object\n",
      " 1   Smoker     1304 non-null   object\n",
      " 2   CAD        1304 non-null   object\n",
      " 3   File name  1304 non-null   object\n",
      "dtypes: object(4)\n",
      "memory usage: 40.9+ KB\n"
     ]
    }
   ],
   "source": [
    "df.info()"
   ]
  },
  {
   "cell_type": "code",
   "execution_count": 124,
   "metadata": {},
   "outputs": [
    {
     "data": {
      "text/plain": [
       "\"Record date: 2148-07-28 Internal Medicine Intern Admit Note Pt: Samuel Tuttle MR: 2793372 Cc: EKG changesHPI: 66 y.o. male with pmhx of DM, incr.cholestoral, and autonomic insufficeny admitted for EKG changes. The patient has significant risk factors for CAD of DM, incr. Cholesterol, and h/o htn.He had a adenosine stress test done in 11/47 which was negative for ischemia (lasting 5min and PDP of 13746). His last echo was done in 4/48 showed an EF of 59% presented to the health clinic with a 3 day hx of worsening L shoulder pain and episodes of diaphoresis. The shoulder pain is chronic and thought to be due to oa, and dm chor.He came to the clinic today for a BP check ( he is often hypotensive and orthostatic) and was noted to have TWI inferiorly and laterally on routine EKG.He denied any chest pain, nausea, vomiting when he went to the e.r.In the e.r., his first set of cardiac enzymes was negative, he was also started on heparin IV, and given IV lopressor, and an aspirin. Of note, the patient had a bp up to 182/88. When the patient arrived on the floor he denied any chest pain, nausea, vomiting, diaphoresis. His BP was noted to be 228/105. 2.5 IV lopressor, 12.5 PO lopressor, and nitropaste were given initially to lower bp to 170/75. PMHx DM (hx of diabetic retinopathy, nephropathy, autonomic instability, neuropathy) Hypercholesterolemia Autonomic insufficiency Polyneuropathy TB Asbestos CRI (baseline 2.1) Depression Arthritis (chronic left shoulder pain) Medications: Lovastatin 40mg QD ASA 81mg QD Insulin 75/25 22qam 24qpm Prilosec 20 mg qd Proamatine 10mg TID Florinef 0.2mg qd Ultram 37.5mg TID Celexa 60mg QD Buspar 10mg QD Allergies:NKDA SOCIAL HISTORY:Lives with his wife.He used to work at foxworthy industrials in2100-2104, after which he had industrial exposure to various chemicals suchas trichloroethylene, asbestos and incinerator smoke.He retired in 2141. :Smoking: 30 pack year smoking history, quit in 2107.Alcohol:heavy drinking for 40 years, cut down in 2146 and has stopped drinkingsince December, 2146.Denies any drug use. P/E: BP226/109 T96.6 P74 R20 O2 98% on 2L GEN: WDWN male in n.a.d. HEENT: EOMI, PERRL, no o-p erythema, no carotid bruits, JVP not visible with patient sitting upright Chest: crackles Left lung base,good air movement bilaterally C-V: regular, s1 s2 no m/g/r PMI in 5th intercostals space midclavicular line Abd: soft nt normoactive bs Ext: skin changes on anterior legs bilaterally in LE. No edema Neuro: A&O x3. CN II-XII intact. No focal motor or sensory deficits Labs: 7.2>33.1<214 PT 12.8 PTT22.8 Na -146. K 3.8, Cl 113, CO2 24.4, BUN 32, Cr 2.2, Gluc 148 Mg 1.7 PO4 3.2 Ca 9.7 Alb 4, direct bili .6, Alk phos 82, AST 32, ALT 37 CK IE negative, Troponin negative Chest x-ray -1.NO EVIDENCE OF PNEUMONIA OR PULMONARY EDEMA.2.CALCIFIED PLEURAL PLAQUES, AS BEFORE.3.A NODULAR OPACITY IN THE RIGHT UPPER LUNG ZONE IS NOW BETTERDEFINED THAN IN THE PREVIOUS EXAMINATION.IN LIGHT OF THE CHANGEIN APPEARANCE, CHEST C. T. MAY BE WARRANTED TO EXCLUDE A GROWINGNEOPLASM. EKG- from e.r. TWI in II, III, avF, v3-v6. borderline LVH, left atrial enlargement On admission - flattened TW in II, II,avF, TWI v4, v5 Imp: 66 y.o. male with hx of DM, autonomic instability, incr. Cholesterol presents with new EKG changes. Plan: 1.C-V a)\\tischemia - r/o MI, first set of cardiac enzymes negative, will get two more sets to r/o. Will monitor for EKG changes. New TWI in inferior and lateral chest leads worrisome in a patient with multiple risk factors. Last stress negative 6 months ago. Will talk with PCP and team in a.m. to discuss the need for stress in asymptomatic patient with recent stress. EKG changes may be secondary to htn strain. Will d/c IV heparin. Cont. po lopressor as long as patient's bp tolerates it. ASA qd. Appreciate input of Dr. Bodnari and will discuss future management. b)\\tPump - last ef 59% pt. Appears euvolemic c)\\tRhythm - no hx of arrythmia, on cardiac monitor/telemetry overnight 2. HTN - pt. Htn when he arrived on floor. Hx of hypotension. Will give low dose lopressor 12.5mg BID as well as nitropaste. Need to be careful of lowering BP too fast. Pt.'s bp unstable in past.Will hold florinef and proamatine for now 3. DM - hx of retinopathy, nephropathy, and neuropathy. Will maintain on home regiman of nph, and cover with iss. 4. Shoulder pain - ultram, PT5. Resp - opacity in RUL, may be secondary to old TB. According to radiologist reading it has changed since past x-rays. Asymptomatic. Can be worked up as an outpatient. 6. Prophylaxis - pneumoboots, nexium  Bobby U. Spears, M.D.\""
      ]
     },
     "execution_count": 124,
     "metadata": {},
     "output_type": "execute_result"
    }
   ],
   "source": [
    "df.loc[20]['Note'] #display an example note from the data"
   ]
  },
  {
   "cell_type": "code",
   "execution_count": 27,
   "metadata": {},
   "outputs": [
    {
     "data": {
      "text/plain": [
       "unknown    635\n",
       "never      304\n",
       "past       262\n",
       "current     91\n",
       "ever        12\n",
       "Name: Smoker, dtype: int64"
      ]
     },
     "execution_count": 27,
     "metadata": {},
     "output_type": "execute_result"
    }
   ],
   "source": [
    "df['Smoker'].value_counts() #view unique values in the 'smoker' column"
   ]
  },
  {
   "cell_type": "code",
   "execution_count": 28,
   "metadata": {},
   "outputs": [],
   "source": [
    "# assuming, 'ever' was a typo of 'never'\n",
    "df['Smoker'] = df['Smoker'].replace({'ever': 'never'})"
   ]
  },
  {
   "cell_type": "code",
   "execution_count": 29,
   "metadata": {},
   "outputs": [
    {
     "data": {
      "text/plain": [
       "unknown    635\n",
       "never      316\n",
       "past       262\n",
       "current     91\n",
       "Name: Smoker, dtype: int64"
      ]
     },
     "execution_count": 29,
     "metadata": {},
     "output_type": "execute_result"
    }
   ],
   "source": [
    "df['Smoker'].value_counts() #verify the change took place"
   ]
  },
  {
   "cell_type": "code",
   "execution_count": 30,
   "metadata": {},
   "outputs": [
    {
     "data": {
      "text/plain": [
       "unknown    734\n",
       "mention    337\n",
       "test        91\n",
       "event       83\n",
       "symptom     59\n",
       "Name: CAD, dtype: int64"
      ]
     },
     "execution_count": 30,
     "metadata": {},
     "output_type": "execute_result"
    }
   ],
   "source": [
    "df['CAD'].value_counts() # view unique CAD values"
   ]
  },
  {
   "cell_type": "code",
   "execution_count": 31,
   "metadata": {},
   "outputs": [],
   "source": [
    "df.to_csv('data.csv', index=False)"
   ]
  },
  {
   "cell_type": "code",
   "execution_count": 32,
   "metadata": {},
   "outputs": [
    {
     "data": {
      "text/html": [
       "<div>\n",
       "<style scoped>\n",
       "    .dataframe tbody tr th:only-of-type {\n",
       "        vertical-align: middle;\n",
       "    }\n",
       "\n",
       "    .dataframe tbody tr th {\n",
       "        vertical-align: top;\n",
       "    }\n",
       "\n",
       "    .dataframe thead th {\n",
       "        text-align: right;\n",
       "    }\n",
       "</style>\n",
       "<table border=\"1\" class=\"dataframe\">\n",
       "  <thead>\n",
       "    <tr style=\"text-align: right;\">\n",
       "      <th></th>\n",
       "      <th>Note</th>\n",
       "      <th>Smoker</th>\n",
       "      <th>CAD</th>\n",
       "      <th>File name</th>\n",
       "    </tr>\n",
       "  </thead>\n",
       "  <tbody>\n",
       "    <tr>\n",
       "      <th>0</th>\n",
       "      <td>Record date: 2093-04-28BMC EMERGENCY DEPT VISI...</td>\n",
       "      <td>past</td>\n",
       "      <td>unknown</td>\n",
       "      <td>379-03.xml</td>\n",
       "    </tr>\n",
       "    <tr>\n",
       "      <th>1</th>\n",
       "      <td>Record date: 2093-01-13 Team X Intern Admissio...</td>\n",
       "      <td>unknown</td>\n",
       "      <td>test</td>\n",
       "      <td>279-03.xml</td>\n",
       "    </tr>\n",
       "    <tr>\n",
       "      <th>2</th>\n",
       "      <td>Record date: 2088-05-21 Patient Name: CURTIS, ...</td>\n",
       "      <td>unknown</td>\n",
       "      <td>unknown</td>\n",
       "      <td>119-01.xml</td>\n",
       "    </tr>\n",
       "    <tr>\n",
       "      <th>3</th>\n",
       "      <td>Record date: 2062-03-27 Hematology Clinic Prog...</td>\n",
       "      <td>never</td>\n",
       "      <td>unknown</td>\n",
       "      <td>304-03.xml</td>\n",
       "    </tr>\n",
       "    <tr>\n",
       "      <th>4</th>\n",
       "      <td>Record date: 2135-12-15CARDIOLOGYPERDUE MEDICA...</td>\n",
       "      <td>past</td>\n",
       "      <td>test</td>\n",
       "      <td>204-03.xml</td>\n",
       "    </tr>\n",
       "  </tbody>\n",
       "</table>\n",
       "</div>"
      ],
      "text/plain": [
       "                                                Note   Smoker      CAD  \\\n",
       "0  Record date: 2093-04-28BMC EMERGENCY DEPT VISI...     past  unknown   \n",
       "1  Record date: 2093-01-13 Team X Intern Admissio...  unknown     test   \n",
       "2  Record date: 2088-05-21 Patient Name: CURTIS, ...  unknown  unknown   \n",
       "3  Record date: 2062-03-27 Hematology Clinic Prog...    never  unknown   \n",
       "4  Record date: 2135-12-15CARDIOLOGYPERDUE MEDICA...     past     test   \n",
       "\n",
       "    File name  \n",
       "0  379-03.xml  \n",
       "1  279-03.xml  \n",
       "2  119-01.xml  \n",
       "3  304-03.xml  \n",
       "4  204-03.xml  "
      ]
     },
     "execution_count": 32,
     "metadata": {},
     "output_type": "execute_result"
    }
   ],
   "source": [
    "df = pd.read_csv('data.csv')\n",
    "df.head()"
   ]
  },
  {
   "cell_type": "code",
   "execution_count": 34,
   "metadata": {},
   "outputs": [
    {
     "data": {
      "text/html": [
       "<div>\n",
       "<style scoped>\n",
       "    .dataframe tbody tr th:only-of-type {\n",
       "        vertical-align: middle;\n",
       "    }\n",
       "\n",
       "    .dataframe tbody tr th {\n",
       "        vertical-align: top;\n",
       "    }\n",
       "\n",
       "    .dataframe thead th {\n",
       "        text-align: right;\n",
       "    }\n",
       "</style>\n",
       "<table border=\"1\" class=\"dataframe\">\n",
       "  <thead>\n",
       "    <tr style=\"text-align: right;\">\n",
       "      <th></th>\n",
       "      <th>Note</th>\n",
       "      <th>Smoker</th>\n",
       "      <th>CAD</th>\n",
       "      <th>File name</th>\n",
       "    </tr>\n",
       "  </thead>\n",
       "  <tbody>\n",
       "    <tr>\n",
       "      <th>0</th>\n",
       "      <td>Record date: 2093-04-28BMC EMERGENCY DEPT VISI...</td>\n",
       "      <td>yes</td>\n",
       "      <td>unknown</td>\n",
       "      <td>379-03.xml</td>\n",
       "    </tr>\n",
       "    <tr>\n",
       "      <th>1</th>\n",
       "      <td>Record date: 2093-01-13 Team X Intern Admissio...</td>\n",
       "      <td>unknown</td>\n",
       "      <td>test</td>\n",
       "      <td>279-03.xml</td>\n",
       "    </tr>\n",
       "    <tr>\n",
       "      <th>2</th>\n",
       "      <td>Record date: 2088-05-21 Patient Name: CURTIS, ...</td>\n",
       "      <td>unknown</td>\n",
       "      <td>unknown</td>\n",
       "      <td>119-01.xml</td>\n",
       "    </tr>\n",
       "    <tr>\n",
       "      <th>3</th>\n",
       "      <td>Record date: 2062-03-27 Hematology Clinic Prog...</td>\n",
       "      <td>no</td>\n",
       "      <td>unknown</td>\n",
       "      <td>304-03.xml</td>\n",
       "    </tr>\n",
       "    <tr>\n",
       "      <th>4</th>\n",
       "      <td>Record date: 2135-12-15CARDIOLOGYPERDUE MEDICA...</td>\n",
       "      <td>yes</td>\n",
       "      <td>test</td>\n",
       "      <td>204-03.xml</td>\n",
       "    </tr>\n",
       "  </tbody>\n",
       "</table>\n",
       "</div>"
      ],
      "text/plain": [
       "                                                Note   Smoker      CAD  \\\n",
       "0  Record date: 2093-04-28BMC EMERGENCY DEPT VISI...      yes  unknown   \n",
       "1  Record date: 2093-01-13 Team X Intern Admissio...  unknown     test   \n",
       "2  Record date: 2088-05-21 Patient Name: CURTIS, ...  unknown  unknown   \n",
       "3  Record date: 2062-03-27 Hematology Clinic Prog...       no  unknown   \n",
       "4  Record date: 2135-12-15CARDIOLOGYPERDUE MEDICA...      yes     test   \n",
       "\n",
       "    File name  \n",
       "0  379-03.xml  \n",
       "1  279-03.xml  \n",
       "2  119-01.xml  \n",
       "3  304-03.xml  \n",
       "4  204-03.xml  "
      ]
     },
     "execution_count": 34,
     "metadata": {},
     "output_type": "execute_result"
    }
   ],
   "source": [
    "df['Smoker'] = df['Smoker'].replace({'unknown': 'unknown', 'never': 'no', 'past': 'yes', 'current': 'yes'})\n",
    "\n",
    "\n",
    "df.head()"
   ]
  },
  {
   "cell_type": "code",
   "execution_count": 35,
   "metadata": {},
   "outputs": [
    {
     "data": {
      "text/html": [
       "<div>\n",
       "<style scoped>\n",
       "    .dataframe tbody tr th:only-of-type {\n",
       "        vertical-align: middle;\n",
       "    }\n",
       "\n",
       "    .dataframe tbody tr th {\n",
       "        vertical-align: top;\n",
       "    }\n",
       "\n",
       "    .dataframe thead th {\n",
       "        text-align: right;\n",
       "    }\n",
       "</style>\n",
       "<table border=\"1\" class=\"dataframe\">\n",
       "  <thead>\n",
       "    <tr style=\"text-align: right;\">\n",
       "      <th></th>\n",
       "      <th>Note</th>\n",
       "      <th>Smoker</th>\n",
       "      <th>CAD</th>\n",
       "      <th>File name</th>\n",
       "    </tr>\n",
       "  </thead>\n",
       "  <tbody>\n",
       "    <tr>\n",
       "      <th>0</th>\n",
       "      <td>Record date: 2093-04-28BMC EMERGENCY DEPT VISI...</td>\n",
       "      <td>yes</td>\n",
       "      <td>unknown</td>\n",
       "      <td>379-03.xml</td>\n",
       "    </tr>\n",
       "    <tr>\n",
       "      <th>1</th>\n",
       "      <td>Record date: 2093-01-13 Team X Intern Admissio...</td>\n",
       "      <td>unknown</td>\n",
       "      <td>yes</td>\n",
       "      <td>279-03.xml</td>\n",
       "    </tr>\n",
       "    <tr>\n",
       "      <th>2</th>\n",
       "      <td>Record date: 2088-05-21 Patient Name: CURTIS, ...</td>\n",
       "      <td>unknown</td>\n",
       "      <td>unknown</td>\n",
       "      <td>119-01.xml</td>\n",
       "    </tr>\n",
       "    <tr>\n",
       "      <th>3</th>\n",
       "      <td>Record date: 2062-03-27 Hematology Clinic Prog...</td>\n",
       "      <td>no</td>\n",
       "      <td>unknown</td>\n",
       "      <td>304-03.xml</td>\n",
       "    </tr>\n",
       "    <tr>\n",
       "      <th>4</th>\n",
       "      <td>Record date: 2135-12-15CARDIOLOGYPERDUE MEDICA...</td>\n",
       "      <td>yes</td>\n",
       "      <td>yes</td>\n",
       "      <td>204-03.xml</td>\n",
       "    </tr>\n",
       "  </tbody>\n",
       "</table>\n",
       "</div>"
      ],
      "text/plain": [
       "                                                Note   Smoker      CAD  \\\n",
       "0  Record date: 2093-04-28BMC EMERGENCY DEPT VISI...      yes  unknown   \n",
       "1  Record date: 2093-01-13 Team X Intern Admissio...  unknown      yes   \n",
       "2  Record date: 2088-05-21 Patient Name: CURTIS, ...  unknown  unknown   \n",
       "3  Record date: 2062-03-27 Hematology Clinic Prog...       no  unknown   \n",
       "4  Record date: 2135-12-15CARDIOLOGYPERDUE MEDICA...      yes      yes   \n",
       "\n",
       "    File name  \n",
       "0  379-03.xml  \n",
       "1  279-03.xml  \n",
       "2  119-01.xml  \n",
       "3  304-03.xml  \n",
       "4  204-03.xml  "
      ]
     },
     "execution_count": 35,
     "metadata": {},
     "output_type": "execute_result"
    }
   ],
   "source": [
    "# we will make a binary function to classify each value to either \"yes\" or \"unknown\" for coronary artery disease \n",
    "def binary(row):\n",
    "    if row == 'unknown':\n",
    "        val = 'unknown'\n",
    "    else:\n",
    "        val = 'yes'\n",
    "    return val\n",
    "\n",
    "\n",
    "df['CAD'] = df['CAD'].apply(binary)\n",
    "\n",
    "df.head()"
   ]
  },
  {
   "cell_type": "code",
   "execution_count": 36,
   "metadata": {},
   "outputs": [],
   "source": [
    "# export df to csv to make re-running easier\n",
    "df.to_csv('data.csv', index=False)"
   ]
  },
  {
   "cell_type": "code",
   "execution_count": 37,
   "metadata": {},
   "outputs": [
    {
     "data": {
      "text/html": [
       "<div>\n",
       "<style scoped>\n",
       "    .dataframe tbody tr th:only-of-type {\n",
       "        vertical-align: middle;\n",
       "    }\n",
       "\n",
       "    .dataframe tbody tr th {\n",
       "        vertical-align: top;\n",
       "    }\n",
       "\n",
       "    .dataframe thead th {\n",
       "        text-align: right;\n",
       "    }\n",
       "</style>\n",
       "<table border=\"1\" class=\"dataframe\">\n",
       "  <thead>\n",
       "    <tr style=\"text-align: right;\">\n",
       "      <th></th>\n",
       "      <th>Note</th>\n",
       "      <th>Smoker</th>\n",
       "      <th>CAD</th>\n",
       "      <th>File name</th>\n",
       "    </tr>\n",
       "  </thead>\n",
       "  <tbody>\n",
       "    <tr>\n",
       "      <th>0</th>\n",
       "      <td>Record date: 2093-04-28BMC EMERGENCY DEPT VISI...</td>\n",
       "      <td>yes</td>\n",
       "      <td>unknown</td>\n",
       "      <td>379-03.xml</td>\n",
       "    </tr>\n",
       "    <tr>\n",
       "      <th>1</th>\n",
       "      <td>Record date: 2093-01-13 Team X Intern Admissio...</td>\n",
       "      <td>unknown</td>\n",
       "      <td>yes</td>\n",
       "      <td>279-03.xml</td>\n",
       "    </tr>\n",
       "    <tr>\n",
       "      <th>2</th>\n",
       "      <td>Record date: 2088-05-21 Patient Name: CURTIS, ...</td>\n",
       "      <td>unknown</td>\n",
       "      <td>unknown</td>\n",
       "      <td>119-01.xml</td>\n",
       "    </tr>\n",
       "    <tr>\n",
       "      <th>3</th>\n",
       "      <td>Record date: 2062-03-27 Hematology Clinic Prog...</td>\n",
       "      <td>no</td>\n",
       "      <td>unknown</td>\n",
       "      <td>304-03.xml</td>\n",
       "    </tr>\n",
       "    <tr>\n",
       "      <th>4</th>\n",
       "      <td>Record date: 2135-12-15CARDIOLOGYPERDUE MEDICA...</td>\n",
       "      <td>yes</td>\n",
       "      <td>yes</td>\n",
       "      <td>204-03.xml</td>\n",
       "    </tr>\n",
       "  </tbody>\n",
       "</table>\n",
       "</div>"
      ],
      "text/plain": [
       "                                                Note   Smoker      CAD  \\\n",
       "0  Record date: 2093-04-28BMC EMERGENCY DEPT VISI...      yes  unknown   \n",
       "1  Record date: 2093-01-13 Team X Intern Admissio...  unknown      yes   \n",
       "2  Record date: 2088-05-21 Patient Name: CURTIS, ...  unknown  unknown   \n",
       "3  Record date: 2062-03-27 Hematology Clinic Prog...       no  unknown   \n",
       "4  Record date: 2135-12-15CARDIOLOGYPERDUE MEDICA...      yes      yes   \n",
       "\n",
       "    File name  \n",
       "0  379-03.xml  \n",
       "1  279-03.xml  \n",
       "2  119-01.xml  \n",
       "3  304-03.xml  \n",
       "4  204-03.xml  "
      ]
     },
     "execution_count": 37,
     "metadata": {},
     "output_type": "execute_result"
    }
   ],
   "source": [
    "#read databack in\n",
    "df = pd.read_csv('data.csv')\n",
    "\n",
    "df.head()"
   ]
  },
  {
   "cell_type": "code",
   "execution_count": 39,
   "metadata": {},
   "outputs": [],
   "source": [
    "#create a function to format the data frame and generate dummy variables \n",
    "def dummies():\n",
    "    df = pd.read_csv('data.csv', usecols=['Smoker', 'CAD'])\n",
    "    new_df = pd.get_dummies(df)\n",
    "    df = pd.read_csv('data.csv', usecols=['Note'])\n",
    "    new_df = pd.concat([df, new_df], axis=1)\n",
    "    return new_df "
   ]
  },
  {
   "cell_type": "code",
   "execution_count": 40,
   "metadata": {},
   "outputs": [
    {
     "data": {
      "text/html": [
       "<div>\n",
       "<style scoped>\n",
       "    .dataframe tbody tr th:only-of-type {\n",
       "        vertical-align: middle;\n",
       "    }\n",
       "\n",
       "    .dataframe tbody tr th {\n",
       "        vertical-align: top;\n",
       "    }\n",
       "\n",
       "    .dataframe thead th {\n",
       "        text-align: right;\n",
       "    }\n",
       "</style>\n",
       "<table border=\"1\" class=\"dataframe\">\n",
       "  <thead>\n",
       "    <tr style=\"text-align: right;\">\n",
       "      <th></th>\n",
       "      <th>Note</th>\n",
       "      <th>Smoker_no</th>\n",
       "      <th>Smoker_unknown</th>\n",
       "      <th>Smoker_yes</th>\n",
       "      <th>CAD_unknown</th>\n",
       "      <th>CAD_yes</th>\n",
       "    </tr>\n",
       "  </thead>\n",
       "  <tbody>\n",
       "    <tr>\n",
       "      <th>0</th>\n",
       "      <td>Record date: 2093-04-28BMC EMERGENCY DEPT VISI...</td>\n",
       "      <td>0</td>\n",
       "      <td>0</td>\n",
       "      <td>1</td>\n",
       "      <td>1</td>\n",
       "      <td>0</td>\n",
       "    </tr>\n",
       "    <tr>\n",
       "      <th>1</th>\n",
       "      <td>Record date: 2093-01-13 Team X Intern Admissio...</td>\n",
       "      <td>0</td>\n",
       "      <td>1</td>\n",
       "      <td>0</td>\n",
       "      <td>0</td>\n",
       "      <td>1</td>\n",
       "    </tr>\n",
       "    <tr>\n",
       "      <th>2</th>\n",
       "      <td>Record date: 2088-05-21 Patient Name: CURTIS, ...</td>\n",
       "      <td>0</td>\n",
       "      <td>1</td>\n",
       "      <td>0</td>\n",
       "      <td>1</td>\n",
       "      <td>0</td>\n",
       "    </tr>\n",
       "    <tr>\n",
       "      <th>3</th>\n",
       "      <td>Record date: 2062-03-27 Hematology Clinic Prog...</td>\n",
       "      <td>1</td>\n",
       "      <td>0</td>\n",
       "      <td>0</td>\n",
       "      <td>1</td>\n",
       "      <td>0</td>\n",
       "    </tr>\n",
       "    <tr>\n",
       "      <th>4</th>\n",
       "      <td>Record date: 2135-12-15CARDIOLOGYPERDUE MEDICA...</td>\n",
       "      <td>0</td>\n",
       "      <td>0</td>\n",
       "      <td>1</td>\n",
       "      <td>0</td>\n",
       "      <td>1</td>\n",
       "    </tr>\n",
       "    <tr>\n",
       "      <th>5</th>\n",
       "      <td>Record date: 2084-01-07Fellow/NP Xiang Reason ...</td>\n",
       "      <td>1</td>\n",
       "      <td>0</td>\n",
       "      <td>0</td>\n",
       "      <td>0</td>\n",
       "      <td>1</td>\n",
       "    </tr>\n",
       "    <tr>\n",
       "      <th>6</th>\n",
       "      <td>Record date: 2081-09-06 09/06/81 Follow up aft...</td>\n",
       "      <td>1</td>\n",
       "      <td>0</td>\n",
       "      <td>0</td>\n",
       "      <td>1</td>\n",
       "      <td>0</td>\n",
       "    </tr>\n",
       "    <tr>\n",
       "      <th>7</th>\n",
       "      <td>Record date: 2082-10-30 COLIN RAMEY CHH Unit N...</td>\n",
       "      <td>1</td>\n",
       "      <td>0</td>\n",
       "      <td>0</td>\n",
       "      <td>1</td>\n",
       "      <td>0</td>\n",
       "    </tr>\n",
       "    <tr>\n",
       "      <th>8</th>\n",
       "      <td>Record date: 2079-11-09 Cocke County Baptist H...</td>\n",
       "      <td>1</td>\n",
       "      <td>0</td>\n",
       "      <td>0</td>\n",
       "      <td>1</td>\n",
       "      <td>0</td>\n",
       "    </tr>\n",
       "    <tr>\n",
       "      <th>9</th>\n",
       "      <td>Record date: 2062-07-21 Halcyon House Intern A...</td>\n",
       "      <td>0</td>\n",
       "      <td>1</td>\n",
       "      <td>0</td>\n",
       "      <td>1</td>\n",
       "      <td>0</td>\n",
       "    </tr>\n",
       "  </tbody>\n",
       "</table>\n",
       "</div>"
      ],
      "text/plain": [
       "                                                Note  Smoker_no  \\\n",
       "0  Record date: 2093-04-28BMC EMERGENCY DEPT VISI...          0   \n",
       "1  Record date: 2093-01-13 Team X Intern Admissio...          0   \n",
       "2  Record date: 2088-05-21 Patient Name: CURTIS, ...          0   \n",
       "3  Record date: 2062-03-27 Hematology Clinic Prog...          1   \n",
       "4  Record date: 2135-12-15CARDIOLOGYPERDUE MEDICA...          0   \n",
       "5  Record date: 2084-01-07Fellow/NP Xiang Reason ...          1   \n",
       "6  Record date: 2081-09-06 09/06/81 Follow up aft...          1   \n",
       "7  Record date: 2082-10-30 COLIN RAMEY CHH Unit N...          1   \n",
       "8  Record date: 2079-11-09 Cocke County Baptist H...          1   \n",
       "9  Record date: 2062-07-21 Halcyon House Intern A...          0   \n",
       "\n",
       "   Smoker_unknown  Smoker_yes  CAD_unknown  CAD_yes  \n",
       "0               0           1            1        0  \n",
       "1               1           0            0        1  \n",
       "2               1           0            1        0  \n",
       "3               0           0            1        0  \n",
       "4               0           1            0        1  \n",
       "5               0           0            0        1  \n",
       "6               0           0            1        0  \n",
       "7               0           0            1        0  \n",
       "8               0           0            1        0  \n",
       "9               1           0            1        0  "
      ]
     },
     "execution_count": 40,
     "metadata": {},
     "output_type": "execute_result"
    }
   ],
   "source": [
    "new_df = dummies()\n",
    "new_df.head(10)"
   ]
  },
  {
   "cell_type": "code",
   "execution_count": 41,
   "metadata": {},
   "outputs": [],
   "source": [
    "new_df.to_csv('formatted data.csv', index=False)"
   ]
  },
  {
   "cell_type": "code",
   "execution_count": 42,
   "metadata": {},
   "outputs": [
    {
     "data": {
      "text/html": [
       "<div>\n",
       "<style scoped>\n",
       "    .dataframe tbody tr th:only-of-type {\n",
       "        vertical-align: middle;\n",
       "    }\n",
       "\n",
       "    .dataframe tbody tr th {\n",
       "        vertical-align: top;\n",
       "    }\n",
       "\n",
       "    .dataframe thead th {\n",
       "        text-align: right;\n",
       "    }\n",
       "</style>\n",
       "<table border=\"1\" class=\"dataframe\">\n",
       "  <thead>\n",
       "    <tr style=\"text-align: right;\">\n",
       "      <th></th>\n",
       "      <th>Note</th>\n",
       "      <th>Smoker_no</th>\n",
       "      <th>Smoker_unknown</th>\n",
       "      <th>Smoker_yes</th>\n",
       "      <th>CAD_unknown</th>\n",
       "      <th>CAD_yes</th>\n",
       "    </tr>\n",
       "  </thead>\n",
       "  <tbody>\n",
       "    <tr>\n",
       "      <th>0</th>\n",
       "      <td>Record date: 2093-04-28BMC EMERGENCY DEPT VISI...</td>\n",
       "      <td>0</td>\n",
       "      <td>0</td>\n",
       "      <td>1</td>\n",
       "      <td>1</td>\n",
       "      <td>0</td>\n",
       "    </tr>\n",
       "    <tr>\n",
       "      <th>1</th>\n",
       "      <td>Record date: 2093-01-13 Team X Intern Admissio...</td>\n",
       "      <td>0</td>\n",
       "      <td>1</td>\n",
       "      <td>0</td>\n",
       "      <td>0</td>\n",
       "      <td>1</td>\n",
       "    </tr>\n",
       "    <tr>\n",
       "      <th>2</th>\n",
       "      <td>Record date: 2088-05-21 Patient Name: CURTIS, ...</td>\n",
       "      <td>0</td>\n",
       "      <td>1</td>\n",
       "      <td>0</td>\n",
       "      <td>1</td>\n",
       "      <td>0</td>\n",
       "    </tr>\n",
       "    <tr>\n",
       "      <th>3</th>\n",
       "      <td>Record date: 2062-03-27 Hematology Clinic Prog...</td>\n",
       "      <td>1</td>\n",
       "      <td>0</td>\n",
       "      <td>0</td>\n",
       "      <td>1</td>\n",
       "      <td>0</td>\n",
       "    </tr>\n",
       "    <tr>\n",
       "      <th>4</th>\n",
       "      <td>Record date: 2135-12-15CARDIOLOGYPERDUE MEDICA...</td>\n",
       "      <td>0</td>\n",
       "      <td>0</td>\n",
       "      <td>1</td>\n",
       "      <td>0</td>\n",
       "      <td>1</td>\n",
       "    </tr>\n",
       "  </tbody>\n",
       "</table>\n",
       "</div>"
      ],
      "text/plain": [
       "                                                Note  Smoker_no  \\\n",
       "0  Record date: 2093-04-28BMC EMERGENCY DEPT VISI...          0   \n",
       "1  Record date: 2093-01-13 Team X Intern Admissio...          0   \n",
       "2  Record date: 2088-05-21 Patient Name: CURTIS, ...          0   \n",
       "3  Record date: 2062-03-27 Hematology Clinic Prog...          1   \n",
       "4  Record date: 2135-12-15CARDIOLOGYPERDUE MEDICA...          0   \n",
       "\n",
       "   Smoker_unknown  Smoker_yes  CAD_unknown  CAD_yes  \n",
       "0               0           1            1        0  \n",
       "1               1           0            0        1  \n",
       "2               1           0            1        0  \n",
       "3               0           0            1        0  \n",
       "4               0           1            0        1  "
      ]
     },
     "execution_count": 42,
     "metadata": {},
     "output_type": "execute_result"
    }
   ],
   "source": [
    "new_df = pd.read_csv('formatted data.csv')\n",
    "new_df.head()"
   ]
  },
  {
   "cell_type": "code",
   "execution_count": 43,
   "metadata": {},
   "outputs": [
    {
     "name": "stderr",
     "output_type": "stream",
     "text": [
      "Using TensorFlow backend.\n"
     ]
    },
    {
     "name": "stdout",
     "output_type": "stream",
     "text": [
      " record date 2093 04 28bmc emergency dept visitnancy jasmine nikkolas693 31 18 1visit date 04 28 93 the patient was seen interviewed and examined by myself as well asdr judd whose note i have reviewed and whose findings i haveconfirmed history of presenting complaint this patient is a 68 year oldmale who presents with slurred speech the patient has a historyof a prior cerebrovascular accident with residual right sideddeficit one day prior to arrival the patient was found to haveincreasing slurring of speech and he was found to increasingweakness over his baseline on the right side the patient arriveswithout acute complaints except for difficulty speaking he deniesany headache he also does complain of some throat pain review of systems review of systems is as per the written note the patient denies fevers chills chest pain shortness of breathor dysphagia past medical history the patient's past medical history issignificant for hypertension diabetes mellitus cerebrovascularaccident and otherwise as per the written note medications the patient's medications include tylenol aspirin avenida glucophage zoloft hydrochlorothiazide metoprolol andotherwise as per the written note allergies the patient has no known drug allergies social history and family history the patient's social historyand family history are as per the written note and are significantfor past tobacco use and no alcohol use he lives with family andgoes to a day care facility physical examination general the patient is a well nourishedmale in no acute distress vital signs temperature 97 pulse 62 respiratory rate 16 blood pressure 163 96 oxygen saturation 100 on room air neck supple with full range of motion no nuchalrigidity lungs clear to auscultation bilaterally with good airmovement cardiac regular with ectopy no murmur isauscultated neurologic alert oriented x 3 dysarthric fingerto nose is within normal limits bilaterally there is 5 5 motorstrength throughout the left upper extremity and left lowerextremity the right upper extremity and right lower extremitythere is 3 5 motor strength throughout all motor groups tested the patient is able to follow all commands his ability tounderstand appears to be completely intact further details of the patient's physical examination are as perthe written note laboratory evaluation laboratory studies are significant for aglucose of 195 bun of 14 creatinine of 1 2 bicarbonate of 26 ckof 68 toxicology screen which is negative troponin of 0 04 whitecount of 7 4 hematocrit of 42 0 platelets of 327 and a urinalysisthat is pending a head ct is also pending therapy rendered course in ed the patient was interviewed andexamined in the emergency department his past medical recordswere reviewed the patient has new neurologic findings on top ofan old cerebrovascular accident consultations including pcp the neurology service was thereforeconsulted and a head ct was ordered the patient will be admittedto the neurology service for further work up and he will likelyalso undergo an mri mra final diagnosis cerebrovascular accident disposition including condition upon discharge the patient isadmitted to the neurology service in satisfactory condition km855 90247alisha viola m d av51d 04 28 93t 04 28 93dictated by alisha viola m d av51 not reviewed by attending physician\n"
     ]
    }
   ],
   "source": [
    "from keras.preprocessing.text import text_to_word_sequence\n",
    "import pandas as pd\n",
    "\n",
    "\n",
    "def prepareTextFeatures():\n",
    "    df = pd.read_csv(\"formatted data.csv\",usecols =['Note'])\n",
    "    texts = df.values\n",
    "    processeddocs = []\n",
    "    for idx, sentence in enumerate(texts):\n",
    "        processedSentence = text_to_word_sequence(sentence[0])\n",
    "        corpus = ''\n",
    "        for word in processedSentence:\n",
    "            corpus = corpus + ' ' + word\n",
    "        processeddocs.append(corpus)\n",
    "        \n",
    "    print(processeddocs[0])\n",
    "    return processeddocs\n",
    "corpus = prepareTextFeatures()"
   ]
  },
  {
   "cell_type": "markdown",
   "metadata": {},
   "source": [
    "## RNN\n",
    "\n",
    "Try an recurrent neural network to classify all the labels"
   ]
  },
  {
   "cell_type": "code",
   "execution_count": 44,
   "metadata": {
    "scrolled": false
   },
   "outputs": [
    {
     "name": "stdout",
     "output_type": "stream",
     "text": [
      "Model: \"model_1\"\n",
      "_________________________________________________________________\n",
      "Layer (type)                 Output Shape              Param #   \n",
      "=================================================================\n",
      "input_1 (InputLayer)         (None, 100)               0         \n",
      "_________________________________________________________________\n",
      "embedding_1 (Embedding)      (None, 100, 64)           2887104   \n",
      "_________________________________________________________________\n",
      "bidirectional_1 (Bidirection (None, 100, 128)          66048     \n",
      "_________________________________________________________________\n",
      "flatten_1 (Flatten)          (None, 12800)             0         \n",
      "_________________________________________________________________\n",
      "dense_1 (Dense)              (None, 150)               1920150   \n",
      "_________________________________________________________________\n",
      "dense_2 (Dense)              (None, 120)               18120     \n",
      "_________________________________________________________________\n",
      "dense_3 (Dense)              (None, 100)               12100     \n",
      "_________________________________________________________________\n",
      "dense_4 (Dense)              (None, 50)                5050      \n",
      "_________________________________________________________________\n",
      "dense_5 (Dense)              (None, 50)                2550      \n",
      "_________________________________________________________________\n",
      "dense_6 (Dense)              (None, 5)                 255       \n",
      "=================================================================\n",
      "Total params: 4,911,377\n",
      "Trainable params: 4,911,377\n",
      "Non-trainable params: 0\n",
      "_________________________________________________________________\n"
     ]
    },
    {
     "name": "stderr",
     "output_type": "stream",
     "text": [
      "/opt/anaconda3/lib/python3.7/site-packages/tensorflow_core/python/framework/indexed_slices.py:433: UserWarning: Converting sparse IndexedSlices to a dense Tensor of unknown shape. This may consume a large amount of memory.\n",
      "  \"Converting sparse IndexedSlices to a dense Tensor of unknown shape. \"\n"
     ]
    },
    {
     "data": {
      "application/vnd.jupyter.widget-view+json": {
       "model_id": "d37ecb6075df463db76edc2c2249a845",
       "version_major": 2,
       "version_minor": 0
      },
      "text/plain": [
       "HBox(children=(FloatProgress(value=0.0, description='Training', max=10.0, style=ProgressStyle(description_widt…"
      ]
     },
     "metadata": {},
     "output_type": "display_data"
    },
    {
     "data": {
      "application/vnd.jupyter.widget-view+json": {
       "model_id": "159030357d83404e929c0970ddf0ea11",
       "version_major": 2,
       "version_minor": 0
      },
      "text/plain": [
       "HBox(children=(FloatProgress(value=0.0, description='Epoch 0', max=638.0, style=ProgressStyle(description_widt…"
      ]
     },
     "metadata": {},
     "output_type": "display_data"
    },
    {
     "name": "stdout",
     "output_type": "stream",
     "text": [
      "\n"
     ]
    },
    {
     "data": {
      "application/vnd.jupyter.widget-view+json": {
       "model_id": "225a67dc8e0546b78a77155ec89c632f",
       "version_major": 2,
       "version_minor": 0
      },
      "text/plain": [
       "HBox(children=(FloatProgress(value=0.0, description='Epoch 1', max=638.0, style=ProgressStyle(description_widt…"
      ]
     },
     "metadata": {},
     "output_type": "display_data"
    },
    {
     "name": "stdout",
     "output_type": "stream",
     "text": [
      "\n"
     ]
    },
    {
     "data": {
      "application/vnd.jupyter.widget-view+json": {
       "model_id": "6ec957259c764fa9b5b1425811e70d6e",
       "version_major": 2,
       "version_minor": 0
      },
      "text/plain": [
       "HBox(children=(FloatProgress(value=0.0, description='Epoch 2', max=638.0, style=ProgressStyle(description_widt…"
      ]
     },
     "metadata": {},
     "output_type": "display_data"
    },
    {
     "name": "stdout",
     "output_type": "stream",
     "text": [
      "\n"
     ]
    },
    {
     "data": {
      "application/vnd.jupyter.widget-view+json": {
       "model_id": "310c3fda664244089e6b80678986f862",
       "version_major": 2,
       "version_minor": 0
      },
      "text/plain": [
       "HBox(children=(FloatProgress(value=0.0, description='Epoch 3', max=638.0, style=ProgressStyle(description_widt…"
      ]
     },
     "metadata": {},
     "output_type": "display_data"
    },
    {
     "name": "stdout",
     "output_type": "stream",
     "text": [
      "\n"
     ]
    },
    {
     "data": {
      "application/vnd.jupyter.widget-view+json": {
       "model_id": "951e8a7fdedf452ba6c91bb3e0deff84",
       "version_major": 2,
       "version_minor": 0
      },
      "text/plain": [
       "HBox(children=(FloatProgress(value=0.0, description='Epoch 4', max=638.0, style=ProgressStyle(description_widt…"
      ]
     },
     "metadata": {},
     "output_type": "display_data"
    },
    {
     "name": "stdout",
     "output_type": "stream",
     "text": [
      "\n"
     ]
    },
    {
     "data": {
      "application/vnd.jupyter.widget-view+json": {
       "model_id": "e401c286f7f34952b1b5ba0eaa318f5b",
       "version_major": 2,
       "version_minor": 0
      },
      "text/plain": [
       "HBox(children=(FloatProgress(value=0.0, description='Epoch 5', max=638.0, style=ProgressStyle(description_widt…"
      ]
     },
     "metadata": {},
     "output_type": "display_data"
    },
    {
     "name": "stdout",
     "output_type": "stream",
     "text": [
      "\n"
     ]
    },
    {
     "data": {
      "application/vnd.jupyter.widget-view+json": {
       "model_id": "69dce93dd9dc4c75928410e60d3f4ee4",
       "version_major": 2,
       "version_minor": 0
      },
      "text/plain": [
       "HBox(children=(FloatProgress(value=0.0, description='Epoch 6', max=638.0, style=ProgressStyle(description_widt…"
      ]
     },
     "metadata": {},
     "output_type": "display_data"
    },
    {
     "name": "stdout",
     "output_type": "stream",
     "text": [
      "\n"
     ]
    },
    {
     "data": {
      "application/vnd.jupyter.widget-view+json": {
       "model_id": "9273aabf41d54e698653ac8d7ea6141d",
       "version_major": 2,
       "version_minor": 0
      },
      "text/plain": [
       "HBox(children=(FloatProgress(value=0.0, description='Epoch 7', max=638.0, style=ProgressStyle(description_widt…"
      ]
     },
     "metadata": {},
     "output_type": "display_data"
    },
    {
     "name": "stdout",
     "output_type": "stream",
     "text": [
      "\n"
     ]
    },
    {
     "data": {
      "application/vnd.jupyter.widget-view+json": {
       "model_id": "ecf89f7b520d451e8fed1573da34108d",
       "version_major": 2,
       "version_minor": 0
      },
      "text/plain": [
       "HBox(children=(FloatProgress(value=0.0, description='Epoch 8', max=638.0, style=ProgressStyle(description_widt…"
      ]
     },
     "metadata": {},
     "output_type": "display_data"
    },
    {
     "name": "stdout",
     "output_type": "stream",
     "text": [
      "\n"
     ]
    },
    {
     "data": {
      "application/vnd.jupyter.widget-view+json": {
       "model_id": "99cd32e55adb426db2da99b33de6b2d2",
       "version_major": 2,
       "version_minor": 0
      },
      "text/plain": [
       "HBox(children=(FloatProgress(value=0.0, description='Epoch 9', max=638.0, style=ProgressStyle(description_widt…"
      ]
     },
     "metadata": {},
     "output_type": "display_data"
    },
    {
     "name": "stdout",
     "output_type": "stream",
     "text": [
      "\n",
      "\n",
      "Smoker_no: \n",
      " Test auc is 0.6792174632286835\n",
      "Smoker_unknown: \n",
      " Test auc is 0.8128600099043448\n",
      "Smoker_yes: \n",
      " Test auc is 0.719700168918919\n",
      "CAD_unknown: \n",
      " Test auc is 0.5736991535542759\n",
      "CAD_yes: \n",
      " Test auc is 0.580545015522594\n",
      "Macro Average AUC:0.6732043622257635\n"
     ]
    }
   ],
   "source": [
    "from keras.models import Sequential, Model\n",
    "from keras.layers import Dense, LSTM, Bidirectional, Flatten, Input, Embedding\n",
    "from keras.preprocessing.text import Tokenizer, text_to_word_sequence\n",
    "from keras.preprocessing.sequence import pad_sequences\n",
    "from sklearn.feature_extraction.text import TfidfVectorizer, CountVectorizer\n",
    "from sklearn.model_selection import train_test_split\n",
    "import pandas as pd\n",
    "from sklearn.metrics import roc_curve, auc\n",
    "from keras_tqdm import TQDMNotebookCallback\n",
    "LABELS = list(new_df.columns)\n",
    "LABELS = LABELS[1:]\n",
    "\n",
    "\n",
    "def create_model(voc):\n",
    "    sequence_input = Input(shape=(100,), dtype='int32')\n",
    "    embedded_sequences = Embedding(voc, 64, input_length=100)(sequence_input)\n",
    "    rnn_layer = Bidirectional(LSTM(64, return_sequences=True, dropout=0.3,recurrent_dropout=0),\n",
    "                              merge_mode='concat')(embedded_sequences)\n",
    "    l_flat = Flatten()(rnn_layer)\n",
    "    l_dense = Dense(150, activation='relu')(l_flat)\n",
    "    l_dense = Dense(120, activation='relu')(l_dense)\n",
    "    l_dense = Dense(100, activation='relu')(l_dense)\n",
    "    l_dense = Dense(50, activation='relu')(l_dense)\n",
    "    l_dense = Dense(50, activation='relu')(l_dense)\n",
    "    preds = Dense(len(LABELS), activation='sigmoid')(l_dense)\n",
    "    model = Model(inputs=sequence_input, outputs=preds)\n",
    "    # Compile model\n",
    "    model.compile(loss='binary_crossentropy', optimizer='adam', metrics=['accuracy'])\n",
    "    model.summary()\n",
    "    return model\n",
    "df = pd.read_csv(\"formatted data.csv\")\n",
    "train, test = train_test_split(df, random_state=42, test_size=0.3, shuffle=True)\n",
    "\n",
    "\n",
    "X_train = train[\"Note\"].values\n",
    "X_test = test[\"Note\"].values\n",
    "Y_train = train[LABELS].values\n",
    "Y_test = test[LABELS].values\n",
    "\n",
    "\n",
    "\n",
    "\n",
    "tokenizer = Tokenizer(num_words=10)\n",
    "tokenizer.fit_on_texts(df[\"Note\"].values)\n",
    "voc_size = len(tokenizer.word_index)+1\n",
    "\n",
    "\n",
    "X_train = tokenizer.texts_to_sequences(X_train)\n",
    "X_train = pad_sequences(X_train, maxlen=100, padding='post')\n",
    "voc_size = len(tokenizer.word_index)+1\n",
    "\n",
    "\n",
    "X_test = tokenizer.texts_to_sequences(X_test)\n",
    "X_test = pad_sequences(X_test, maxlen=100, padding='post')\n",
    "\n",
    "model = create_model(voc_size)\n",
    "\n",
    "model.fit(x=X_train, y=Y_train, batch_size=128,validation_split=0.3, epochs=10,\n",
    "          verbose=0,callbacks=[TQDMNotebookCallback(leave_inner=True)])\n",
    "\n",
    "\n",
    "total=0\n",
    "prediction = model.predict(X_test)\n",
    "for idx,category in enumerate(LABELS):\n",
    "    fpr, tpr, _ = roc_curve(Y_test[:, idx], prediction[:, idx])\n",
    "    roc_auc = auc(fpr, tpr)\n",
    "    total+=roc_auc\n",
    "    print('{}: \\n Test auc is {}'.format(category,roc_auc))\n",
    "\n",
    "print(\"Macro Average AUC:\" + str(total/len(LABELS)))"
   ]
  },
  {
   "cell_type": "markdown",
   "metadata": {},
   "source": [
    "## CNN\n",
    "\n",
    "Try a convolutional neural network to accomplish the task"
   ]
  },
  {
   "cell_type": "code",
   "execution_count": 45,
   "metadata": {},
   "outputs": [
    {
     "name": "stdout",
     "output_type": "stream",
     "text": [
      "Model: \"model_2\"\n",
      "_________________________________________________________________\n",
      "Layer (type)                 Output Shape              Param #   \n",
      "=================================================================\n",
      "input_2 (InputLayer)         (None, 100)               0         \n",
      "_________________________________________________________________\n",
      "embedding_2 (Embedding)      (None, 100, 64)           2887104   \n",
      "_________________________________________________________________\n",
      "conv1d_1 (Conv1D)            (None, 98, 128)           24704     \n",
      "_________________________________________________________________\n",
      "max_pooling1d_1 (MaxPooling1 (None, 19, 128)           0         \n",
      "_________________________________________________________________\n",
      "conv1d_2 (Conv1D)            (None, 17, 128)           49280     \n",
      "_________________________________________________________________\n",
      "max_pooling1d_2 (MaxPooling1 (None, 1, 128)            0         \n",
      "_________________________________________________________________\n",
      "flatten_2 (Flatten)          (None, 128)               0         \n",
      "_________________________________________________________________\n",
      "dense_7 (Dense)              (None, 128)               16512     \n",
      "_________________________________________________________________\n",
      "dense_8 (Dense)              (None, 5)                 645       \n",
      "=================================================================\n",
      "Total params: 2,978,245\n",
      "Trainable params: 2,978,245\n",
      "Non-trainable params: 0\n",
      "_________________________________________________________________\n"
     ]
    },
    {
     "name": "stderr",
     "output_type": "stream",
     "text": [
      "/opt/anaconda3/lib/python3.7/site-packages/tensorflow_core/python/framework/indexed_slices.py:433: UserWarning: Converting sparse IndexedSlices to a dense Tensor of unknown shape. This may consume a large amount of memory.\n",
      "  \"Converting sparse IndexedSlices to a dense Tensor of unknown shape. \"\n"
     ]
    },
    {
     "data": {
      "application/vnd.jupyter.widget-view+json": {
       "model_id": "878e5f8bec2d492a83136901842dc7b6",
       "version_major": 2,
       "version_minor": 0
      },
      "text/plain": [
       "HBox(children=(FloatProgress(value=0.0, description='Training', max=10.0, style=ProgressStyle(description_widt…"
      ]
     },
     "metadata": {},
     "output_type": "display_data"
    },
    {
     "data": {
      "application/vnd.jupyter.widget-view+json": {
       "model_id": "2d7bd5e405544dcea7741fb731da2795",
       "version_major": 2,
       "version_minor": 0
      },
      "text/plain": [
       "HBox(children=(FloatProgress(value=0.0, description='Epoch 0', max=729.0, style=ProgressStyle(description_widt…"
      ]
     },
     "metadata": {},
     "output_type": "display_data"
    },
    {
     "name": "stdout",
     "output_type": "stream",
     "text": [
      "\n"
     ]
    },
    {
     "data": {
      "application/vnd.jupyter.widget-view+json": {
       "model_id": "5230261a69594def804f1c986e31c94f",
       "version_major": 2,
       "version_minor": 0
      },
      "text/plain": [
       "HBox(children=(FloatProgress(value=0.0, description='Epoch 1', max=729.0, style=ProgressStyle(description_widt…"
      ]
     },
     "metadata": {},
     "output_type": "display_data"
    },
    {
     "name": "stdout",
     "output_type": "stream",
     "text": [
      "\n"
     ]
    },
    {
     "data": {
      "application/vnd.jupyter.widget-view+json": {
       "model_id": "5edb6695ab7d4a80802ed58cc6aaf52f",
       "version_major": 2,
       "version_minor": 0
      },
      "text/plain": [
       "HBox(children=(FloatProgress(value=0.0, description='Epoch 2', max=729.0, style=ProgressStyle(description_widt…"
      ]
     },
     "metadata": {},
     "output_type": "display_data"
    },
    {
     "name": "stdout",
     "output_type": "stream",
     "text": [
      "\n"
     ]
    },
    {
     "data": {
      "application/vnd.jupyter.widget-view+json": {
       "model_id": "c505df20eb7841adadddadd31cb0afed",
       "version_major": 2,
       "version_minor": 0
      },
      "text/plain": [
       "HBox(children=(FloatProgress(value=0.0, description='Epoch 3', max=729.0, style=ProgressStyle(description_widt…"
      ]
     },
     "metadata": {},
     "output_type": "display_data"
    },
    {
     "name": "stdout",
     "output_type": "stream",
     "text": [
      "\n"
     ]
    },
    {
     "data": {
      "application/vnd.jupyter.widget-view+json": {
       "model_id": "8976b119e5db431382c3a8cdad404625",
       "version_major": 2,
       "version_minor": 0
      },
      "text/plain": [
       "HBox(children=(FloatProgress(value=0.0, description='Epoch 4', max=729.0, style=ProgressStyle(description_widt…"
      ]
     },
     "metadata": {},
     "output_type": "display_data"
    },
    {
     "name": "stdout",
     "output_type": "stream",
     "text": [
      "\n"
     ]
    },
    {
     "data": {
      "application/vnd.jupyter.widget-view+json": {
       "model_id": "72b0649189314b7e98c5f52852ce91fc",
       "version_major": 2,
       "version_minor": 0
      },
      "text/plain": [
       "HBox(children=(FloatProgress(value=0.0, description='Epoch 5', max=729.0, style=ProgressStyle(description_widt…"
      ]
     },
     "metadata": {},
     "output_type": "display_data"
    },
    {
     "name": "stdout",
     "output_type": "stream",
     "text": [
      "\n"
     ]
    },
    {
     "data": {
      "application/vnd.jupyter.widget-view+json": {
       "model_id": "475cbd76d32e4357b1e27fbec9af7e06",
       "version_major": 2,
       "version_minor": 0
      },
      "text/plain": [
       "HBox(children=(FloatProgress(value=0.0, description='Epoch 6', max=729.0, style=ProgressStyle(description_widt…"
      ]
     },
     "metadata": {},
     "output_type": "display_data"
    },
    {
     "name": "stdout",
     "output_type": "stream",
     "text": [
      "\n"
     ]
    },
    {
     "data": {
      "application/vnd.jupyter.widget-view+json": {
       "model_id": "deca9ddca92143e981742ff4e61679ae",
       "version_major": 2,
       "version_minor": 0
      },
      "text/plain": [
       "HBox(children=(FloatProgress(value=0.0, description='Epoch 7', max=729.0, style=ProgressStyle(description_widt…"
      ]
     },
     "metadata": {},
     "output_type": "display_data"
    },
    {
     "name": "stdout",
     "output_type": "stream",
     "text": [
      "\n"
     ]
    },
    {
     "data": {
      "application/vnd.jupyter.widget-view+json": {
       "model_id": "b2cac8d4029e465f93cbea6384727859",
       "version_major": 2,
       "version_minor": 0
      },
      "text/plain": [
       "HBox(children=(FloatProgress(value=0.0, description='Epoch 8', max=729.0, style=ProgressStyle(description_widt…"
      ]
     },
     "metadata": {},
     "output_type": "display_data"
    },
    {
     "name": "stdout",
     "output_type": "stream",
     "text": [
      "\n"
     ]
    },
    {
     "data": {
      "application/vnd.jupyter.widget-view+json": {
       "model_id": "b47de4ad2aa44eefb74e40eb5b61fa20",
       "version_major": 2,
       "version_minor": 0
      },
      "text/plain": [
       "HBox(children=(FloatProgress(value=0.0, description='Epoch 9', max=729.0, style=ProgressStyle(description_widt…"
      ]
     },
     "metadata": {},
     "output_type": "display_data"
    },
    {
     "name": "stdout",
     "output_type": "stream",
     "text": [
      "\n",
      "\n",
      "Smoker_no \n",
      " Test auc is 0.5940230877117272\n",
      "Smoker_unknown \n",
      " Test auc is 0.7888810696692471\n",
      "Smoker_yes \n",
      " Test auc is 0.7101280968468469\n",
      "CAD_unknown \n",
      " Test auc is 0.5849762517579006\n",
      "CAD_yes \n",
      " Test auc is 0.5676758563961047\n",
      "Macro Average AUC:0.6491368724763652\n"
     ]
    }
   ],
   "source": [
    "from keras.layers import Dense, Conv1D, MaxPooling1D, Flatten, Input, Embedding\n",
    "\n",
    "def create_model(voc):\n",
    "    sequence_input = Input(shape=(100,), dtype='int32')\n",
    "    embedded_sequences = Embedding(voc, 64, input_length=100)(sequence_input)\n",
    "    l_cov1= Conv1D(128, 3, activation='relu')(embedded_sequences)\n",
    "    l_pool1 = MaxPooling1D(5)(l_cov1)\n",
    "    l_cov2 = Conv1D(128, 3, activation='relu')(l_pool1)\n",
    "    l_pool2 = MaxPooling1D(17)(l_cov2)  # global max pooling\n",
    "    l_flat = Flatten()(l_pool2)\n",
    "    l_dense = Dense(128, activation='relu')(l_flat)\n",
    "    preds = Dense(5, activation='sigmoid')(l_dense)\n",
    "    model = Model(inputs=sequence_input, outputs=preds)\n",
    "    # Compile model\n",
    "    model.compile(loss='binary_crossentropy', optimizer='adam', metrics=['accuracy'])\n",
    "    model.summary()\n",
    "    return model\n",
    "\n",
    "\n",
    "model = create_model(voc_size)\n",
    "\n",
    "model.fit(x=X_train, y=Y_train,batch_size=158,validation_split=0.2, epochs=10,verbose=0,callbacks=[TQDMNotebookCallback(leave_inner=True)])\n",
    "\n",
    "\n",
    "total=0\n",
    "prediction = model.predict(X_test)\n",
    "for idx,category in enumerate(LABELS):\n",
    "    fpr, tpr, _ = roc_curve(Y_test[:, idx], prediction[:, idx])\n",
    "    roc_auc = auc(fpr, tpr)\n",
    "    total+=roc_auc\n",
    "    print('{} \\n Test auc is {}'.format(category,roc_auc))\n",
    "\n",
    "print(\"Macro Average AUC:\" + str(total/len(LABELS)))"
   ]
  },
  {
   "cell_type": "code",
   "execution_count": null,
   "metadata": {},
   "outputs": [],
   "source": []
  }
 ],
 "metadata": {
  "kernelspec": {
   "display_name": "Python 3",
   "language": "python",
   "name": "python3"
  },
  "language_info": {
   "codemirror_mode": {
    "name": "ipython",
    "version": 3
   },
   "file_extension": ".py",
   "mimetype": "text/x-python",
   "name": "python",
   "nbconvert_exporter": "python",
   "pygments_lexer": "ipython3",
   "version": "3.7.6"
  }
 },
 "nbformat": 4,
 "nbformat_minor": 4
}
